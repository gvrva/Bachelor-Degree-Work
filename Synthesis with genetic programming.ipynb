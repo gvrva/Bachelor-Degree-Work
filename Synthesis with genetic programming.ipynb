{
 "cells": [
  {
   "cell_type": "markdown",
   "metadata": {},
   "source": [
    "eval_func - функционал качества J"
   ]
  },
  {
   "cell_type": "code",
   "execution_count": 1,
   "metadata": {},
   "outputs": [],
   "source": [
    "import operator\n",
    "import math\n",
    "import random\n",
    "\n",
    "import numpy as np\n",
    "import scipy as sp\n",
    "from deap import algorithms, base, creator, tools, gp"
   ]
  },
  {
   "cell_type": "code",
   "execution_count": 2,
   "metadata": {},
   "outputs": [],
   "source": [
    "# новое деление\n",
    "def division_operator(numerator, denominator):\n",
    "    if denominator == 0:\n",
    "        return 1\n",
    "\n",
    "    return numerator / denominator "
   ]
  },
  {
   "cell_type": "code",
   "execution_count": 17,
   "metadata": {},
   "outputs": [],
   "source": [
    "#Параметры\n",
    "xf = np.array([0, 0, 0])\n",
    "X_init = np.array([10, 10, 0])\n",
    "epsilon = 0.01\n",
    "t_max = 2.\n",
    "r = np.array([2, 2])\n",
    "x_limit = np.array([[7.5, 7.5],[2.5, 2.5]])"
   ]
  },
  {
   "cell_type": "markdown",
   "metadata": {},
   "source": [
    "# **Вся сложность тут**\n",
    "\n",
    "Если делать по книге, то нужно будет отдельно реализовать функции x1(t), x2(t), x3(t), от них и зависит u.\n",
    "x1, x2, x3 в одной функции"
   ]
  },
  {
   "cell_type": "code",
   "execution_count": 18,
   "metadata": {},
   "outputs": [],
   "source": [
    "def model_coord(t, inits, individual, done = 1):\n",
    "    x1_np = np.array([inits[0]])\n",
    "    x2_np = np.array([inits[1]])\n",
    "    x3_np = np.array([inits[2]])\n",
    "    u = toolbox.compile(expr=individual)\n",
    "    for dt in np.arange(0, t, 0.01):\n",
    "        u_t = u(round(x1_np[-1],10), round(x2_np[-1], 10), round(x3_np[-1],10))\n",
    "        if math.fabs(u_t) < 1:\n",
    "            x3_np = np.append(x3_np, x3_np[-1] + 10*math.tan(u_t)*0.01)\n",
    "        if u_t >= 1:\n",
    "            x3_np = np.append(x3_np, x3_np[-1] + 10*math.tan(1.)*0.01)\n",
    "        if u_t <= -1:\n",
    "            x3_np = np.append(x3_np, x3_np[-1] + 10*math.tan(-1.)*0.01)\n",
    "        x1_np = np.append(x1_np, x1_np[-1] + 10*math.cos(x3_np[-1]) * 0.01)\n",
    "        x2_np = np.append(x2_np, x2_np[-1] + 10*math.sin(x3_np[-1])*0.01)\n",
    "    return x1_np, x2_np, x3_np\n",
    "    "
   ]
  },
  {
   "cell_type": "markdown",
   "metadata": {},
   "source": [
    "**Вычисление ТОЛЬКО при одном t, а не на всем промежутке**"
   ]
  },
  {
   "cell_type": "code",
   "execution_count": 19,
   "metadata": {},
   "outputs": [],
   "source": [
    "#Фазовые ограничения\n",
    "def g(inits): \n",
    "    x1 = inits[0]\n",
    "    x2 = inits[1]\n",
    "    return r-sp.sqrt((x1-x_limit[:,0])**2+(x2-x_limit[:,1])**2) #возвращает массив len = количество ограничений"
   ]
  },
  {
   "cell_type": "code",
   "execution_count": 20,
   "metadata": {},
   "outputs": [],
   "source": [
    "def theta(g):\n",
    "    t = np.array([])\n",
    "    for element in g:\n",
    "        if (element>0):\n",
    "            t = np.append(t,1)\n",
    "        else:\n",
    "            t = np.append(t,0)\n",
    "    return t #возвращает массив len = количество ограничений"
   ]
  },
  {
   "cell_type": "code",
   "execution_count": 21,
   "metadata": {},
   "outputs": [],
   "source": [
    "def J(inits, individual): #J(u(x))\n",
    "    s_results, t, coords = s(inits, individual)\n",
    "    distance = x_xf(coords)\n",
    "    return s_results*2+t+distance,"
   ]
  },
  {
   "cell_type": "code",
   "execution_count": 22,
   "metadata": {},
   "outputs": [],
   "source": [
    "def s(x_init, individual):\n",
    "    iter_max = t_max*100-1\n",
    "    dt = 0.01\n",
    "    i = 0\n",
    "    s_fin = 0\n",
    "    tf = 0\n",
    "    x1, x2, x3 = model_coord(t_max, x_init, individual) #element вместо x_init\n",
    "    while i < iter_max and x_xf(np.array([x1[i], x2[i], x3[i]]))>=epsilon:\n",
    "        limits = g(np.array([x1[i], x2[i]]))\n",
    "        s_fin = s_fin + sum(theta(limits)*limits)\n",
    "        tf += dt\n",
    "        i += 1\n",
    "    s_all = s_fin*dt\n",
    "    return s_all, tf, np.array([x1[-1], x2[-1], x3[-1]]) #возвращается массив s для всех начальных условий, а также массив времен окончания движения"
   ]
  },
  {
   "cell_type": "code",
   "execution_count": 23,
   "metadata": {},
   "outputs": [],
   "source": [
    "def x_xf(x):\n",
    "    return np.sqrt(sum((x-xf)**2)) #возвращает только одно значение ошибки для конкретных начальных условий"
   ]
  },
  {
   "cell_type": "code",
   "execution_count": 24,
   "metadata": {},
   "outputs": [],
   "source": [
    "# Define the evaluation function\n",
    "def eval_func(individual, points):\n",
    "    return J(points, individual)"
   ]
  },
  {
   "cell_type": "code",
   "execution_count": 28,
   "metadata": {},
   "outputs": [],
   "source": [
    "# Function to create the toolbox\n",
    "def create_toolbox():\n",
    "    pset = gp.PrimitiveSet(\"MAIN\", 3)\n",
    "    pset.addPrimitive(operator.add, 2)\n",
    "    pset.addPrimitive(operator.sub, 2)\n",
    "    pset.addPrimitive(operator.mul, 2)\n",
    "    pset.addPrimitive(division_operator, 2)\n",
    "    pset.addPrimitive(operator.neg, 1)\n",
    "    pset.addPrimitive(math.cos, 1)\n",
    "    pset.addPrimitive(math.sin, 1)\n",
    "    pset.addPrimitive(math.fabs, 1)\n",
    "\n",
    "    pset.addEphemeralConstant(\"rand1\", lambda: random.randint(-5,5))\n",
    "\n",
    "    pset.renameArguments(ARG0='x')\n",
    "    pset.renameArguments(ARG1=\"y\")\n",
    "    pset.renameArguments(ARG2=\"z\")\n",
    "\n",
    "    creator.create(\"FitnessMin\", base.Fitness, weights=(-1.0,))\n",
    "    creator.create(\"Individual\", gp.PrimitiveTree, fitness=creator.FitnessMin)\n",
    "\n",
    "    toolbox = base.Toolbox()\n",
    "\n",
    "    toolbox.register(\"expr\", gp.genHalfAndHalf, pset=pset, min_=1, max_=7)\n",
    "    toolbox.register(\"individual\", tools.initIterate, creator.Individual, toolbox.expr)\n",
    "    toolbox.register(\"population\", tools.initRepeat, list, toolbox.individual)\n",
    "    toolbox.register(\"compile\", gp.compile, pset=pset)\n",
    "    toolbox.register(\"evaluate\", eval_func, points=X_init)\n",
    "    toolbox.register(\"select\", tools.selTournament, tournsize=3)\n",
    "    toolbox.register(\"mate\", gp.cxOnePoint)\n",
    "    toolbox.register(\"expr_mut\", gp.genFull, min_=0, max_=7)\n",
    "    toolbox.register(\"mutate\", gp.mutUniform, expr=toolbox.expr_mut, pset=pset)\n",
    "\n",
    "    toolbox.decorate(\"mate\", gp.staticLimit(key=operator.attrgetter(\"height\"), max_value=17))\n",
    "    toolbox.decorate(\"mutate\", gp.staticLimit(key=operator.attrgetter(\"height\"), max_value=17))\n",
    "\n",
    "    return toolbox\n"
   ]
  },
  {
   "cell_type": "code",
   "execution_count": 29,
   "metadata": {},
   "outputs": [
    {
     "name": "stderr",
     "output_type": "stream",
     "text": [
      "C:\\Users\\irisc\\anaconda3\\lib\\site-packages\\deap\\creator.py:141: RuntimeWarning: A class named 'FitnessMin' has already been created and it will be overwritten. Consider deleting previous creation of that class or rename it.\n",
      "  RuntimeWarning)\n",
      "C:\\Users\\irisc\\anaconda3\\lib\\site-packages\\deap\\creator.py:141: RuntimeWarning: A class named 'Individual' has already been created and it will be overwritten. Consider deleting previous creation of that class or rename it.\n",
      "  RuntimeWarning)\n"
     ]
    }
   ],
   "source": [
    "toolbox = create_toolbox()\n",
    "random.seed(7)\n",
    "\n",
    "population = toolbox.population(n=2000)\n",
    "hall_of_fame = tools.HallOfFame(1)\n",
    "\n",
    "stats_fit = tools.Statistics(lambda x: x.fitness.values)\n",
    "stats_size = tools.Statistics(len)\n",
    "\n",
    "mstats = tools.MultiStatistics(fitness=stats_fit, size=stats_size)\n",
    "mstats.register(\"avg\", np.mean)\n",
    "mstats.register(\"std\", np.std)\n",
    "mstats.register(\"min\", np.min)\n",
    "mstats.register(\"max\", np.max)"
   ]
  },
  {
   "cell_type": "code",
   "execution_count": 30,
   "metadata": {},
   "outputs": [],
   "source": [
    "probab_crossover = 0.4\n",
    "probab_mutate = 0.7\n",
    "num_generations = 150"
   ]
  },
  {
   "cell_type": "code",
   "execution_count": 31,
   "metadata": {
    "scrolled": false
   },
   "outputs": [
    {
     "name": "stderr",
     "output_type": "stream",
     "text": [
      "C:\\Users\\irisc\\anaconda3\\lib\\site-packages\\ipykernel_launcher.py:5: DeprecationWarning: scipy.sqrt is deprecated and will be removed in SciPy 2.0.0, use numpy.lib.scimath.sqrt instead\n",
      "  \"\"\"\n"
     ]
    },
    {
     "name": "stdout",
     "output_type": "stream",
     "text": [
      "   \t      \t                    fitness                    \t                      size                     \n",
      "   \t      \t-----------------------------------------------\t-----------------------------------------------\n",
      "gen\tnevals\tavg    \tgen\tmax    \tmin    \tnevals\tstd    \tavg    \tgen\tmax\tmin\tnevals\tstd    \n",
      "0  \t2000  \t30.5479\t0  \t36.1514\t3.48429\t2000  \t7.04968\t12.9015\t0  \t112\t2  \t2000  \t15.2799\n",
      "1  \t1636  \t27.2744\t1  \t36.1514\t3.48429\t1636  \t7.8463 \t23.7485\t1  \t162\t1  \t1636  \t24.1817\n",
      "2  \t1647  \t25.0833\t2  \t36.1514\t4.21178\t1647  \t8.0675 \t34.0525\t2  \t209\t1  \t1647  \t30.0413\n",
      "3  \t1648  \t23.2602\t3  \t36.1514\t3.45757\t1648  \t8.43062\t43.4795\t3  \t209\t1  \t1648  \t33.8313\n",
      "4  \t1661  \t21.078 \t4  \t36.1514\t3.17598\t1661  \t8.64439\t52.5555\t4  \t215\t1  \t1661  \t37.6926\n",
      "5  \t1621  \t18.7898\t5  \t36.1514\t3.17598\t1621  \t8.72032\t62.935 \t5  \t246\t1  \t1621  \t41.7032\n",
      "6  \t1652  \t16.909 \t6  \t36.1514\t3.17598\t1652  \t8.9801 \t74.8375\t6  \t252\t1  \t1652  \t45.3401\n",
      "7  \t1640  \t14.7954\t7  \t36.1514\t3.17598\t1640  \t8.78717\t88.1555\t7  \t253\t1  \t1640  \t47.2301\n",
      "8  \t1628  \t13.1247\t8  \t36.1514\t3.16113\t1628  \t8.54497\t100.377\t8  \t273\t1  \t1628  \t48.6896\n",
      "9  \t1582  \t12.0821\t9  \t36.1514\t3.24022\t1582  \t8.69782\t111.035\t9  \t318\t1  \t1582  \t50.3338\n",
      "10 \t1655  \t11.681 \t10 \t36.1514\t2.95696\t1655  \t9.00393\t119.622\t10 \t312\t1  \t1655  \t50.6759\n",
      "11 \t1652  \t10.5833\t11 \t36.1514\t2.90991\t1652  \t8.38294\t125.438\t11 \t338\t1  \t1652  \t49.5078\n",
      "12 \t1634  \t10.1179\t12 \t36.1514\t2.70284\t1634  \t8.24058\t131.523\t12 \t373\t3  \t1634  \t51.7519\n",
      "13 \t1622  \t9.92234\t13 \t36.1514\t2.90991\t1622  \t8.3189 \t138.382\t13 \t345\t1  \t1622  \t51.5434\n",
      "14 \t1638  \t9.57195\t14 \t36.1514\t2.7477 \t1638  \t8.15341\t143.642\t14 \t311\t1  \t1638  \t53.3719\n",
      "15 \t1622  \t9.4955 \t15 \t36.1514\t2.56713\t1622  \t8.3248 \t148.313\t15 \t337\t1  \t1622  \t53.3994\n",
      "16 \t1648  \t9.31558\t16 \t36.1514\t2.56713\t1648  \t8.29577\t150.732\t16 \t339\t1  \t1648  \t54.6941\n",
      "17 \t1619  \t8.90604\t17 \t36.1514\t2.56713\t1619  \t8.07526\t155.179\t17 \t376\t2  \t1619  \t55.9081\n",
      "18 \t1671  \t8.98591\t18 \t36.1514\t2.56713\t1671  \t8.39161\t157.028\t18 \t346\t1  \t1671  \t58.5794\n",
      "19 \t1629  \t8.3062 \t19 \t36.1514\t2.56713\t1629  \t7.88162\t158.975\t19 \t340\t2  \t1629  \t60.7907\n",
      "20 \t1633  \t8.30372\t20 \t36.1514\t2.56713\t1633  \t8.28971\t158.569\t20 \t381\t1  \t1633  \t63.4553\n",
      "21 \t1634  \t7.89376\t21 \t36.1514\t2.56713\t1634  \t8.01176\t161.19 \t21 \t369\t1  \t1634  \t62.9997\n",
      "22 \t1604  \t8.05127\t22 \t36.1514\t2.56713\t1604  \t8.42523\t162.821\t22 \t369\t1  \t1604  \t62.998 \n",
      "23 \t1662  \t8.16703\t23 \t36.1514\t2.55646\t1662  \t8.56777\t166.519\t23 \t380\t1  \t1662  \t65.5318\n",
      "24 \t1615  \t7.60916\t24 \t36.1514\t2.55646\t1615  \t8.29521\t171.598\t24 \t450\t1  \t1615  \t67.6585\n",
      "25 \t1646  \t7.35593\t25 \t36.1514\t2.55646\t1646  \t8.06292\t180.204\t25 \t390\t1  \t1646  \t68.7362\n",
      "26 \t1666  \t7.6758 \t26 \t36.1514\t2.56713\t1666  \t8.55876\t183.821\t26 \t411\t2  \t1666  \t71.6304\n",
      "27 \t1630  \t7.49851\t27 \t36.1514\t2.50907\t1630  \t8.43467\t193.596\t27 \t392\t5  \t1630  \t71.9932\n",
      "28 \t1643  \t7.47593\t28 \t36.1514\t2.50907\t1643  \t8.62373\t202.645\t28 \t398\t3  \t1643  \t74.0682\n",
      "29 \t1644  \t6.963  \t29 \t36.1514\t2.4468 \t1644  \t7.95661\t207.976\t29 \t415\t3  \t1644  \t74.6715\n",
      "30 \t1617  \t7.06757\t30 \t36.1514\t2.4468 \t1617  \t8.15841\t211.852\t30 \t431\t1  \t1617  \t75.9911\n",
      "31 \t1629  \t6.91957\t31 \t36.1514\t2.33532\t1629  \t7.9248 \t216.062\t31 \t464\t1  \t1629  \t77.4512\n",
      "32 \t1655  \t6.89544\t32 \t36.1514\t2.36436\t1655  \t8.17241\t217.151\t32 \t486\t1  \t1655  \t77.2364\n",
      "33 \t1623  \t6.48762\t33 \t36.1514\t2.38414\t1623  \t7.64396\t223.255\t33 \t482\t9  \t1623  \t75.7189\n",
      "34 \t1623  \t6.52561\t34 \t36.1514\t2.25738\t1623  \t7.86348\t226.804\t34 \t432\t4  \t1623  \t75.2008\n",
      "35 \t1674  \t6.35174\t35 \t36.1514\t2.24053\t1674  \t7.6128 \t228.212\t35 \t432\t2  \t1674  \t74.8159\n",
      "36 \t1633  \t6.19568\t36 \t36.1514\t2.13734\t1633  \t7.77029\t231.514\t36 \t425\t1  \t1633  \t73.1308\n",
      "37 \t1660  \t6.02002\t37 \t36.1514\t2.13734\t1660  \t7.64542\t231.794\t37 \t453\t1  \t1660  \t69.4829\n",
      "38 \t1601  \t5.87722\t38 \t36.1514\t2.13734\t1601  \t7.71891\t230.727\t38 \t421\t2  \t1601  \t66.4383\n",
      "39 \t1671  \t5.90968\t39 \t36.1514\t2.13734\t1671  \t8.01173\t231.026\t39 \t461\t1  \t1671  \t62.7515\n",
      "40 \t1640  \t5.60418\t40 \t36.1514\t2.12222\t1640  \t7.54962\t233.143\t40 \t446\t5  \t1640  \t63.1321\n",
      "41 \t1643  \t5.22663\t41 \t36.1514\t2.12222\t1643  \t7.12211\t235.754\t41 \t462\t1  \t1643  \t62.2124\n",
      "42 \t1628  \t5.46394\t42 \t36.1514\t2.07879\t1628  \t7.45998\t235.944\t42 \t462\t3  \t1628  \t62.4993\n",
      "43 \t1623  \t5.46715\t43 \t36.1514\t2.06241\t1623  \t7.56078\t240.675\t43 \t460\t1  \t1623  \t60.2999\n",
      "44 \t1639  \t5.69274\t44 \t36.1514\t2.06407\t1639  \t8.03979\t243.378\t44 \t460\t3  \t1639  \t59.6859\n",
      "45 \t1647  \t5.26657\t45 \t36.1514\t2.08452\t1647  \t7.32063\t243.166\t45 \t460\t1  \t1647  \t57.301 \n",
      "46 \t1661  \t5.412  \t46 \t36.1514\t2.08698\t1661  \t7.67069\t245.148\t46 \t419\t1  \t1661  \t57.6731\n",
      "47 \t1648  \t5.3789 \t47 \t36.1514\t2.04759\t1648  \t7.65843\t244.591\t47 \t403\t1  \t1648  \t55.6491\n",
      "48 \t1632  \t5.43782\t48 \t36.1514\t2.03242\t1632  \t7.75611\t244.296\t48 \t437\t3  \t1632  \t54.6107\n",
      "49 \t1652  \t5.08184\t49 \t36.1514\t2.02271\t1652  \t7.21388\t244.129\t49 \t437\t3  \t1652  \t52.8044\n",
      "50 \t1645  \t5.34158\t50 \t36.1514\t2.01783\t1645  \t7.94702\t243.446\t50 \t421\t2  \t1645  \t52.3624\n",
      "51 \t1647  \t5.54533\t51 \t36.1514\t2.01739\t1647  \t8.07454\t241.676\t51 \t408\t2  \t1647  \t51.9953\n",
      "52 \t1655  \t5.28251\t52 \t36.1514\t2.03242\t1655  \t7.66599\t242.075\t52 \t394\t6  \t1655  \t50.2278\n",
      "53 \t1626  \t5.13978\t53 \t36.1514\t2.03242\t1626  \t7.38965\t245.081\t53 \t453\t8  \t1626  \t46.9185\n",
      "54 \t1651  \t5.28837\t54 \t36.1514\t2.05439\t1651  \t7.87432\t245.434\t54 \t435\t1  \t1651  \t46.5454\n",
      "55 \t1654  \t5.20797\t55 \t36.1514\t2.02672\t1654  \t7.78981\t247.675\t55 \t410\t1  \t1654  \t45.7783\n",
      "56 \t1666  \t5.13054\t56 \t36.1514\t2.04621\t1666  \t7.66814\t248.661\t56 \t422\t3  \t1666  \t49.1065\n",
      "57 \t1626  \t5.16347\t57 \t36.1514\t2.04185\t1626  \t7.75046\t250.683\t57 \t372\t1  \t1626  \t47.9712\n",
      "58 \t1659  \t5.41371\t58 \t36.1514\t2.0266 \t1659  \t8.19611\t251.232\t58 \t407\t1  \t1659  \t50.5805\n",
      "59 \t1631  \t5.16218\t59 \t36.1514\t2.01008\t1631  \t7.77422\t256.094\t59 \t402\t1  \t1631  \t47.8206\n",
      "60 \t1671  \t5.23074\t60 \t36.1514\t2.01008\t1671  \t7.83183\t258.31 \t60 \t450\t1  \t1671  \t49.4408\n",
      "61 \t1619  \t5.07559\t61 \t36.1514\t2.01039\t1619  \t7.59145\t261.288\t61 \t401\t2  \t1619  \t45.7887\n",
      "62 \t1666  \t5.03701\t62 \t36.1514\t2.0179 \t1666  \t7.52675\t262.651\t62 \t458\t2  \t1666  \t46.9764\n",
      "63 \t1657  \t5.00054\t63 \t36.1514\t2.00553\t1657  \t7.60828\t265.083\t63 \t460\t1  \t1657  \t47.8389\n",
      "64 \t1672  \t4.98526\t64 \t36.1514\t2.01151\t1672  \t7.36306\t266.544\t64 \t414\t4  \t1672  \t46.7611\n",
      "65 \t1640  \t4.76861\t65 \t36.1514\t2.01081\t1640  \t7.09464\t266.943\t65 \t425\t2  \t1640  \t45.2079\n",
      "66 \t1652  \t5.17078\t66 \t36.1514\t2.00424\t1652  \t7.9146 \t266.11 \t66 \t426\t8  \t1652  \t49.9781\n",
      "67 \t1626  \t4.89502\t67 \t36.1514\t2.00424\t1626  \t7.20386\t267.323\t67 \t422\t1  \t1626  \t50.7693\n",
      "68 \t1637  \t5.19128\t68 \t36.1514\t2.00424\t1637  \t7.93301\t270.986\t68 \t437\t1  \t1637  \t49.8939\n",
      "69 \t1608  \t5.04486\t69 \t36.1514\t2.00305\t1608  \t7.61734\t273.262\t69 \t453\t1  \t1608  \t50.6069\n",
      "70 \t1688  \t4.99882\t70 \t36.1514\t1.99418\t1688  \t7.4959 \t272.297\t70 \t429\t1  \t1688  \t52.3475\n",
      "71 \t1640  \t4.88598\t71 \t36.1514\t1.99418\t1640  \t7.39307\t275.481\t71 \t481\t4  \t1640  \t53.4672\n",
      "72 \t1619  \t4.90563\t72 \t36.1514\t2.00424\t1619  \t7.41128\t275.904\t72 \t482\t4  \t1619  \t54.9522\n",
      "73 \t1630  \t4.76251\t73 \t36.1514\t1.99653\t1630  \t7.1904 \t278.054\t73 \t491\t1  \t1630  \t54.2887\n",
      "74 \t1627  \t4.63163\t74 \t36.1514\t1.99653\t1627  \t7.05965\t280.2  \t74 \t491\t1  \t1627  \t51.3825\n",
      "75 \t1630  \t4.86137\t75 \t36.1514\t1.99653\t1630  \t7.38317\t280.582\t75 \t503\t1  \t1630  \t50.1617\n",
      "76 \t1635  \t5.06634\t76 \t36.1514\t1.9943 \t1635  \t7.65457\t281.324\t76 \t480\t6  \t1635  \t51.4095\n",
      "77 \t1674  \t4.96823\t77 \t36.1514\t1.99653\t1674  \t7.48916\t279.565\t77 \t475\t3  \t1674  \t53.4931\n",
      "78 \t1637  \t4.60793\t78 \t36.1514\t2.00082\t1637  \t7.10102\t282.37 \t78 \t448\t1  \t1637  \t49.9008\n",
      "79 \t1644  \t5.12755\t79 \t36.1514\t2.00082\t1644  \t7.77662\t285.413\t79 \t476\t1  \t1644  \t48.2871\n",
      "80 \t1628  \t4.40815\t80 \t36.1514\t1.99845\t1628  \t6.61328\t288.128\t80 \t504\t1  \t1628  \t43.4303\n",
      "81 \t1645  \t4.57032\t81 \t36.1514\t1.99544\t1645  \t6.74829\t290.192\t81 \t453\t1  \t1645  \t43.9188\n",
      "82 \t1653  \t4.94658\t82 \t36.1514\t1.99652\t1653  \t7.50748\t287.286\t82 \t445\t2  \t1653  \t44.4281\n",
      "83 \t1620  \t4.77221\t83 \t36.1514\t2.00082\t1620  \t7.22922\t286.505\t83 \t450\t1  \t1620  \t46.0268\n",
      "84 \t1633  \t4.55758\t84 \t36.1514\t1.99693\t1633  \t6.95784\t288.396\t84 \t461\t1  \t1633  \t43.5595\n",
      "85 \t1655  \t4.87047\t85 \t36.1514\t1.99693\t1655  \t7.36165\t287.308\t85 \t504\t1  \t1655  \t45.0615\n",
      "86 \t1677  \t4.44339\t86 \t36.1514\t1.99693\t1677  \t6.41404\t286.532\t86 \t462\t2  \t1677  \t45.2398\n",
      "87 \t1671  \t4.60947\t87 \t36.1514\t1.99693\t1671  \t6.8161 \t287.377\t87 \t423\t3  \t1671  \t42.9083\n",
      "88 \t1682  \t4.8797 \t88 \t36.1514\t1.99693\t1682  \t7.24364\t289.443\t88 \t443\t8  \t1682  \t44.2252\n"
     ]
    },
    {
     "name": "stdout",
     "output_type": "stream",
     "text": [
      "89 \t1657  \t4.80415\t89 \t36.1514\t1.99693\t1657  \t7.15328\t290.709\t89 \t456\t3  \t1657  \t46.3598\n",
      "90 \t1601  \t4.56375\t90 \t36.1514\t1.99693\t1601  \t6.84001\t290.558\t90 \t425\t1  \t1601  \t47.0306\n",
      "91 \t1654  \t4.80237\t91 \t36.1514\t1.99693\t1654  \t7.2961 \t293.264\t91 \t395\t3  \t1654  \t41.2866\n",
      "92 \t1655  \t4.70151\t92 \t36.1514\t1.99693\t1655  \t7.1223 \t293.096\t92 \t419\t4  \t1655  \t42.1684\n",
      "93 \t1643  \t4.54121\t93 \t36.1514\t1.99597\t1643  \t6.70115\t294.99 \t93 \t458\t2  \t1643  \t40.511 \n",
      "94 \t1635  \t4.66137\t94 \t36.1514\t1.99597\t1635  \t6.99377\t294.94 \t94 \t441\t2  \t1635  \t41.1467\n",
      "95 \t1685  \t4.95059\t95 \t36.1514\t1.99597\t1685  \t7.40327\t295.762\t95 \t394\t9  \t1685  \t40.2689\n",
      "96 \t1673  \t4.7336 \t96 \t36.1514\t1.99597\t1673  \t7.1808 \t297.865\t96 \t425\t1  \t1673  \t42.5663\n",
      "97 \t1623  \t4.60057\t97 \t36.1514\t1.99597\t1623  \t6.91035\t298.313\t97 \t418\t1  \t1623  \t41.8584\n",
      "98 \t1637  \t4.73411\t98 \t36.1514\t1.99597\t1637  \t7.08432\t297.594\t98 \t455\t1  \t1637  \t47.0366\n",
      "99 \t1611  \t4.40614\t99 \t36.1514\t1.99597\t1611  \t6.54009\t299.156\t99 \t455\t1  \t1611  \t41.7373\n",
      "100\t1632  \t4.62001\t100\t36.1514\t1.99517\t1632  \t7.03824\t298.943\t100\t473\t6  \t1632  \t41.3205\n",
      "101\t1642  \t4.67983\t101\t36.1514\t1.99517\t1642  \t7.16416\t298.38 \t101\t465\t3  \t1642  \t43.3559\n",
      "102\t1626  \t4.59495\t102\t36.1514\t1.99597\t1626  \t6.91915\t299.909\t102\t414\t5  \t1626  \t42.2412\n",
      "103\t1646  \t4.41215\t103\t36.1514\t1.99597\t1646  \t6.54731\t300.845\t103\t426\t2  \t1646  \t41.2939\n",
      "104\t1644  \t4.76247\t104\t36.1514\t1.99597\t1644  \t7.30216\t301.436\t104\t422\t1  \t1644  \t40.4301\n",
      "105\t1630  \t4.73342\t105\t36.1514\t1.99597\t1630  \t7.14348\t300.585\t105\t422\t1  \t1630  \t42.6717\n",
      "106\t1627  \t4.69893\t106\t36.1514\t1.9954 \t1627  \t6.92839\t300.389\t106\t419\t3  \t1627  \t42.4295\n",
      "107\t1634  \t4.56718\t107\t36.1514\t1.9954 \t1634  \t6.78475\t299.559\t107\t508\t1  \t1634  \t46.6656\n",
      "108\t1680  \t4.57457\t108\t36.1514\t1.9954 \t1680  \t6.78349\t300.986\t108\t418\t8  \t1680  \t39.6824\n",
      "109\t1625  \t4.57561\t109\t36.1514\t1.99597\t1625  \t6.80036\t301.432\t109\t628\t7  \t1625  \t41.0881\n",
      "110\t1648  \t4.67558\t110\t36.1514\t1.99597\t1648  \t7.0378 \t300.142\t110\t453\t1  \t1648  \t41.527 \n",
      "111\t1637  \t4.45116\t111\t36.1514\t1.99597\t1637  \t6.60022\t300.724\t111\t415\t3  \t1637  \t41.1427\n",
      "112\t1653  \t4.67563\t112\t36.1514\t1.99434\t1653  \t7.04419\t301.644\t112\t484\t8  \t1653  \t40.4761\n",
      "113\t1636  \t4.95794\t113\t36.1514\t1.99434\t1636  \t7.61974\t299.793\t113\t483\t6  \t1636  \t42.4178\n",
      "114\t1662  \t4.56321\t114\t36.1514\t1.99434\t1662  \t6.9143 \t300.988\t114\t435\t1  \t1662  \t38.0062\n",
      "115\t1628  \t4.76338\t115\t36.1514\t1.99434\t1628  \t7.18563\t300.767\t115\t428\t1  \t1628  \t40.1069\n",
      "116\t1626  \t4.63276\t116\t36.1514\t1.99597\t1626  \t7.07668\t300.303\t116\t434\t1  \t1626  \t41.1146\n",
      "117\t1648  \t4.62949\t117\t36.1514\t1.99597\t1648  \t6.90547\t299.265\t117\t435\t6  \t1648  \t40.9744\n",
      "118\t1640  \t4.73118\t118\t36.1514\t1.99693\t1640  \t7.28066\t299.693\t118\t485\t8  \t1640  \t40.5027\n",
      "119\t1638  \t4.50141\t119\t36.1514\t1.99693\t1638  \t6.67116\t300.241\t119\t452\t1  \t1638  \t39.6123\n",
      "120\t1656  \t4.63659\t120\t36.1514\t1.99693\t1656  \t6.94051\t299.197\t120\t544\t1  \t1656  \t42.6866\n",
      "121\t1644  \t4.60831\t121\t36.1514\t1.99693\t1644  \t6.88027\t299.474\t121\t473\t1  \t1644  \t41.0333\n",
      "122\t1622  \t4.51076\t122\t36.1514\t1.99439\t1622  \t6.56127\t301.284\t122\t435\t1  \t1622  \t38.6645\n",
      "123\t1677  \t4.37902\t123\t36.1514\t1.99439\t1677  \t6.34678\t299.69 \t123\t403\t2  \t1677  \t39.944 \n",
      "124\t1640  \t4.70635\t124\t36.1514\t1.994  \t1640  \t7.20766\t299.672\t124\t420\t1  \t1640  \t41.8533\n",
      "125\t1627  \t4.57843\t125\t36.1514\t1.994  \t1627  \t6.74614\t300.457\t125\t436\t6  \t1627  \t40.0371\n",
      "126\t1647  \t4.66399\t126\t36.1514\t1.994  \t1647  \t6.84195\t300.18 \t126\t438\t1  \t1647  \t40.5851\n",
      "127\t1637  \t4.57647\t127\t36.1514\t1.99439\t1637  \t6.7526 \t300.165\t127\t424\t4  \t1637  \t40.7492\n",
      "128\t1668  \t4.6298 \t128\t36.1514\t1.99439\t1668  \t6.82295\t301.481\t128\t430\t3  \t1668  \t41.2842\n",
      "129\t1650  \t4.66818\t129\t36.1514\t1.99439\t1650  \t7.00523\t300.622\t129\t424\t7  \t1650  \t38.4332\n",
      "130\t1662  \t4.8871 \t130\t36.1514\t1.99439\t1662  \t7.3519 \t300.428\t130\t417\t2  \t1662  \t42.4358\n",
      "131\t1650  \t4.37056\t131\t36.1514\t1.99439\t1650  \t6.40138\t301.1  \t131\t451\t1  \t1650  \t43.0891\n",
      "132\t1650  \t4.5146 \t132\t36.1514\t1.99439\t1650  \t6.88723\t301.247\t132\t419\t7  \t1650  \t39.8809\n",
      "133\t1640  \t4.7343 \t133\t36.1514\t1.99439\t1640  \t7.18823\t303.202\t133\t476\t2  \t1640  \t43.324 \n",
      "134\t1618  \t4.41026\t134\t36.1514\t1.99439\t1618  \t6.6421 \t303.668\t134\t438\t1  \t1618  \t41.8009\n",
      "135\t1627  \t4.56161\t135\t36.1514\t1.99439\t1627  \t6.89693\t302.832\t135\t515\t2  \t1627  \t44.2952\n",
      "136\t1637  \t4.77506\t136\t36.1514\t1.99439\t1637  \t7.28866\t301.935\t136\t447\t5  \t1637  \t45.0329\n",
      "137\t1655  \t4.40054\t137\t36.1514\t1.99439\t1655  \t6.54424\t304.986\t137\t425\t9  \t1655  \t38.6636\n",
      "138\t1648  \t4.67601\t138\t36.1514\t1.99439\t1648  \t7.05624\t303.883\t138\t419\t1  \t1648  \t42.5494\n",
      "139\t1650  \t4.68449\t139\t36.1514\t1.99439\t1650  \t7.03344\t305.357\t139\t472\t2  \t1650  \t42.44  \n",
      "140\t1629  \t4.75563\t140\t36.1514\t1.99439\t1629  \t7.32775\t307.154\t140\t429\t8  \t1629  \t39.8276\n",
      "141\t1640  \t4.80974\t141\t36.1514\t1.99439\t1640  \t7.21826\t305.3  \t141\t456\t1  \t1640  \t42.0484\n",
      "142\t1649  \t4.53927\t142\t36.1514\t1.99439\t1649  \t6.71077\t304.595\t142\t444\t7  \t1649  \t41.6001\n",
      "143\t1653  \t4.60205\t143\t36.1514\t1.99439\t1653  \t7.07568\t303.329\t143\t539\t1  \t1653  \t46.2754\n",
      "144\t1666  \t4.69484\t144\t36.1514\t1.99439\t1666  \t7.02544\t304.221\t144\t472\t1  \t1666  \t44.7624\n",
      "145\t1623  \t4.5878 \t145\t36.1514\t1.99439\t1623  \t6.78317\t305.486\t145\t485\t1  \t1623  \t43.5556\n",
      "146\t1640  \t4.44047\t146\t36.1514\t1.99439\t1640  \t6.66824\t305.575\t146\t486\t3  \t1640  \t42.0181\n",
      "147\t1629  \t4.38428\t147\t36.1514\t1.99439\t1629  \t6.68277\t307.495\t147\t447\t1  \t1629  \t42.0754\n",
      "148\t1655  \t4.53785\t148\t36.1514\t1.99439\t1655  \t6.82845\t309.127\t148\t485\t2  \t1655  \t40.2191\n",
      "149\t1648  \t4.49838\t149\t36.1514\t1.99439\t1648  \t6.76939\t307.726\t149\t421\t1  \t1648  \t41.9713\n",
      "150\t1638  \t4.57045\t150\t36.1514\t1.99439\t1638  \t6.69024\t309.005\t150\t517\t8  \t1638  \t39.6743\n",
      "Wall time: 1h 34min 47s\n"
     ]
    }
   ],
   "source": [
    "%%time\n",
    "population, log = algorithms.eaSimple(population, toolbox, \n",
    "                                      probab_crossover, probab_mutate, num_generations, \n",
    "                                      stats=mstats, halloffame=hall_of_fame, verbose=True)"
   ]
  },
  {
   "cell_type": "code",
   "execution_count": 34,
   "metadata": {},
   "outputs": [],
   "source": [
    "x, y, z = model_coord(2., np.array([10, 10, 0]), hall_of_fame[0])"
   ]
  },
  {
   "cell_type": "code",
   "execution_count": 35,
   "metadata": {},
   "outputs": [
    {
     "data": {
      "image/png": "[encoded data removed]",
      "text/plain": [
       "<Figure size 720x360 with 1 Axes>"
      ]
     },
     "metadata": {
      "needs_background": "light"
     },
     "output_type": "display_data"
    }
   ],
   "source": [
    "import matplotlib.pyplot as plt\n",
    "plt.figure(figsize=(10,5))\n",
    "fig = plt.gcf()\n",
    "ax = fig.gca()\n",
    "plt.plot(x,y,color = 'red')\n",
    "plt.axis('equal')\n",
    "ax.grid()\n",
    "circle1 = plt.Circle((7.5, 7.5), radius = 2)\n",
    "circle2 = plt.Circle((2.5, 2.5), radius = 2)\n",
    "ax.add_artist(circle1)\n",
    "ax.add_artist(circle2)\n",
    "plt.xlabel(\"x1\", fontsize = '20')\n",
    "plt.ylabel(\"x2\", fontsize = '20')\n",
    "plt.tick_params(axis='both', which='major', labelsize=20)"
   ]
  },
  {
   "cell_type": "code",
   "execution_count": 36,
   "metadata": {},
   "outputs": [
    {
     "name": "stdout",
     "output_type": "stream",
     "text": [
      "sub(add(cos(y), add(2, y)), sub(sub(sin(sin(sin(x))), neg(fabs(add(add(sin(fabs(division_operator(fabs(add(neg(x), sub(x, x))), neg(sub(sin(y), division_operator(z, y)))))), sin(cos(mul(add(fabs(cos(neg(sub(add(x, x), division_operator(z, z))))), sub(sin(fabs(division_operator(division_operator(x, x), sub(y, -4)))), division_operator(division_operator(sin(x), add(sub(x, x), neg(y))), sin(fabs(mul(-3, y)))))), mul(3, division_operator(neg(neg(neg(sin(x)))), division_operator(add(add(sin(3), neg(-1)), sub(cos(z), neg(z))), division_operator(sin(neg(y)), cos(sub(5, add(2, -3))))))))))), mul(x, add(division_operator(add(add(cos(neg(mul(division_operator(sub(y, x), mul(-5, x)), sin(fabs(x))))), mul(sub(sin(mul(sub(-2, z), mul(z, z))), sin(cos(division_operator(-1, y)))), sub(sub(sub(cos(-2), sub(x, x)), sub(fabs(y), sin(3))), mul(neg(cos(z)), cos(x))))), -5), sub(sin(z), sub(x, z))), x)))))), mul(sub(mul(-5, 3), add(mul(fabs(add(y, sub(cos(fabs(x)), sin(division_operator(neg(mul(mul(add(z, z), division_operator(2, y)), fabs(neg(z)))), cos(sin(z))))))), neg(cos(neg(fabs(5))))), mul(y, z))), add(mul(x, add(division_operator(add(add(cos(neg(mul(neg(cos(z)), sin(add(5, z))))), mul(sub(sin(mul(sub(-2, z), mul(z, z))), sin(cos(division_operator(-1, y)))), sub(sub(neg(y), sub(fabs(y), sin(3))), mul(neg(cos(z)), sin(fabs(fabs(y))))))), sub(-5, y)), sub(sin(z), sub(x, z))), x)), cos(fabs(sin(division_operator(neg(mul(sub(y, x), fabs(sin(fabs(mul(sin(fabs(-3)), add(sub(x, x), add(3, x)))))))), sin(neg(mul(sin(z), division_operator(sin(fabs(neg(-3))), z))))))))))))\n"
     ]
    }
   ],
   "source": [
    "print(hall_of_fame[0])"
   ]
  },
  {
   "cell_type": "code",
   "execution_count": 40,
   "metadata": {},
   "outputs": [],
   "source": [
    "l = open('log.txt', 'w')"
   ]
  },
  {
   "cell_type": "code",
   "execution_count": 41,
   "metadata": {},
   "outputs": [],
   "source": [
    "l.write(str(log))\n",
    "l.close()"
   ]
  },
  {
   "cell_type": "code",
   "execution_count": 42,
   "metadata": {},
   "outputs": [],
   "source": [
    "h = open('hall_of_fame.txt', 'w')"
   ]
  },
  {
   "cell_type": "code",
   "execution_count": 43,
   "metadata": {},
   "outputs": [
    {
     "data": {
      "text/plain": [
       "1650"
      ]
     },
     "execution_count": 43,
     "metadata": {},
     "output_type": "execute_result"
    }
   ],
   "source": [
    "h.write(str(hall_of_fame[0]))"
   ]
  },
  {
   "cell_type": "code",
   "execution_count": 44,
   "metadata": {},
   "outputs": [],
   "source": [
    "h.close()"
   ]
  },
  {
   "cell_type": "code",
   "execution_count": 207,
   "metadata": {},
   "outputs": [],
   "source": [
    "x1 = open('x.txt', 'w')\n",
    "X = np.zeros((len(x),1))\n",
    "for i in range(len(x)):\n",
    "    X[i][0] = x[i]\n",
    "x1.write(str(X))\n",
    "x1.close()"
   ]
  },
  {
   "cell_type": "code",
   "execution_count": 208,
   "metadata": {},
   "outputs": [],
   "source": [
    "y1 = open('y.txt', 'w')\n",
    "Y = np.zeros((len(x),1))\n",
    "for i in range(len(x)):\n",
    "    Y[i][0] = y[i]\n",
    "y1.write(str(Y))\n",
    "y1.close()"
   ]
  },
  {
   "cell_type": "code",
   "execution_count": 209,
   "metadata": {},
   "outputs": [],
   "source": [
    "z1 = open('z.txt', 'w')\n",
    "Z = np.zeros((len(x),1))\n",
    "for i in range(len(x)):\n",
    "    Z[i][0] = z[i]\n",
    "z1.write(str(Z))\n",
    "z1.close()"
   ]
  },
  {
   "cell_type": "code",
   "execution_count": 210,
   "metadata": {},
   "outputs": [],
   "source": [
    "u = toolbox.compile(expr=hall_of_fame[0])"
   ]
  },
  {
   "cell_type": "code",
   "execution_count": 211,
   "metadata": {},
   "outputs": [],
   "source": [
    "U = np.zeros((len(x),1))\n",
    "for i in range(len(x)):\n",
    "    U[i][0] = u(x[i],y[i],z[i])"
   ]
  },
  {
   "cell_type": "code",
   "execution_count": 212,
   "metadata": {},
   "outputs": [],
   "source": [
    "u1 = open('u.txt', 'w')\n",
    "u1.write(str(U))\n",
    "u1.close()"
   ]
  },
  {
   "cell_type": "code",
   "execution_count": 51,
   "metadata": {},
   "outputs": [
    {
     "data": {
      "text/plain": [
       "array([930.66386668])"
      ]
     },
     "execution_count": 51,
     "metadata": {},
     "output_type": "execute_result"
    }
   ],
   "source": [
    "max(U)"
   ]
  },
  {
   "cell_type": "code",
   "execution_count": 52,
   "metadata": {},
   "outputs": [
    {
     "data": {
      "text/plain": [
       "array([-1295.3902681])"
      ]
     },
     "execution_count": 52,
     "metadata": {},
     "output_type": "execute_result"
    }
   ],
   "source": [
    "min(U)"
   ]
  },
  {
   "cell_type": "code",
   "execution_count": null,
   "metadata": {},
   "outputs": [],
   "source": []
  }
 ],
 "metadata": {
  "kernelspec": {
   "display_name": "Python 3",
   "language": "python",
   "name": "python3"
  },
  "language_info": {
   "codemirror_mode": {
    "name": "ipython",
    "version": 3
   },
   "file_extension": ".py",
   "mimetype": "text/x-python",
   "name": "python",
   "nbconvert_exporter": "python",
   "pygments_lexer": "ipython3",
   "version": "3.7.6"
  }
 },
 "nbformat": 4,
 "nbformat_minor": 2
}
